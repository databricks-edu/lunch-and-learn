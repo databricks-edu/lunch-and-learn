{
 "cells": [
  {
   "cell_type": "markdown",
   "metadata": {
    "slideshow": {
     "slide_type": "slide"
    }
   },
   "source": [
    "# Docker Lunch and Learn"
   ]
  },
  {
   "cell_type": "markdown",
   "metadata": {
    "slideshow": {
     "slide_type": "slide"
    }
   },
   "source": [
    "## Installation"
   ]
  },
  {
   "cell_type": "markdown",
   "metadata": {
    "slideshow": {
     "slide_type": "subslide"
    }
   },
   "source": [
    "### Installing and Configuring Docker"
   ]
  },
  {
   "cell_type": "markdown",
   "metadata": {
    "slideshow": {
     "slide_type": "subslide"
    }
   },
   "source": [
    "#### Install on Mac "
   ]
  },
  {
   "cell_type": "markdown",
   "metadata": {
    "slideshow": {
     "slide_type": "fragment"
    }
   },
   "source": [
    "Follow this link for all contemporary (~> 2016) Mac hardware: https://hub.docker.com/editions/community/docker-ce-desktop-mac\n"
   ]
  },
  {
   "cell_type": "markdown",
   "metadata": {
    "slideshow": {
     "slide_type": "subslide"
    }
   },
   "source": [
    "#### Install on AWS"
   ]
  },
  {
   "cell_type": "markdown",
   "metadata": {
    "slideshow": {
     "slide_type": "fragment"
    }
   },
   "source": [
    "Installing Docker on an AWS instance is a trivial process. It consists of running an install script that can be obtained from Docker and then adding your user to the Docker group. Below, we run these two commands. First, we download the install script from https://get.docker.com, then immediately pipe the script into the shell (`| sh`).\n",
    "\n",
    "There are new projects called [Docker on AWS](https://docs.docker.com/docker-for-aws/) and [Docker for Azure](https://docs.docker.com/docker-for-azure/) that do this config for you. \n",
    "\n"
   ]
  },
  {
   "cell_type": "markdown",
   "metadata": {
    "slideshow": {
     "slide_type": "fragment"
    }
   },
   "source": [
    "$\\square$ **Note:** It is generally considered to be a significant security vulnerability to execute arbitrary code obtained from an unknown, or untrusted source. For our purposes, the source (https://get.docker/com) is considered trustworthy, we are using SSL to perform the curl. It may make the security minded more comfortable to `curl` the script to a local file, inspect, and then run it. **In practice the method below is the method I use to install Docker.**"
   ]
  },
  {
   "cell_type": "markdown",
   "metadata": {
    "slideshow": {
     "slide_type": "subslide"
    }
   },
   "source": [
    "#### Important Note re: Installation on Linux"
   ]
  },
  {
   "cell_type": "markdown",
   "metadata": {
    "slideshow": {
     "slide_type": "fragment"
    }
   },
   "source": [
    "$\\square$ **Note:** Do not install via `apt` or `yum` directly. Follow the Docker instructions for your system. https://docs.docker.com/install/"
   ]
  },
  {
   "cell_type": "markdown",
   "metadata": {
    "slideshow": {
     "slide_type": "fragment"
    }
   },
   "source": [
    "<img src=\"https://www.evernote.com/l/AAFDeHFBjO9P5qVykXyJZ22ycdQJArLe1fUB/image.png\" width=600px>"
   ]
  },
  {
   "cell_type": "markdown",
   "metadata": {
    "slideshow": {
     "slide_type": "subslide"
    }
   },
   "source": [
    "#### Install Docker via a Shell Script\n",
    "\n",
    "<include type=\"listing\" label=\"install-docker\">\n",
    "    \n",
    "```\n",
    "$ curl -sSL https://get.docker.com | sh\n",
    "# Executing docker install script, commit: 1d31602\n",
    "+ sudo -E sh -c apt-get update -qq >/dev/null\n",
    "...\n",
    "\n",
    "Client:\n",
    " Version:   18.02.0-ce\n",
    " API version:   1.36\n",
    " Go version:    go1.9.3\n",
    " Git commit:    fc4de44\n",
    " Built: Wed Feb  7 21:16:33 2018\n",
    " OS/Arch:   linux/amd64\n",
    " Experimental:  false\n",
    " Orchestrator:  swarm\n",
    "\n",
    "Server:\n",
    " Engine:\n",
    "  Version:  18.02.0-ce\n",
    "  API version:  1.36 (minimum version 1.12)\n",
    "  Go version:   go1.9.3\n",
    "  Git commit:   fc4de44\n",
    "  Built:    Wed Feb  7 21:15:05 2018\n",
    "  OS/Arch:  linux/amd64\n",
    "  Experimental: false\n",
    "\n",
    "...\n",
    "\n",
    "```\n",
    "\n",
    "</include>"
   ]
  },
  {
   "cell_type": "markdown",
   "metadata": {
    "slideshow": {
     "slide_type": "subslide"
    }
   },
   "source": [
    "#### Add the Ubuntu User to the Docker Group\n",
    "\n",
    "When the script completes there is one last thing to be done. Add the `ubuntu` user to the `docker` group. By default, the command line docker client will require sudo access in order to issue commands to the docker daemon. You can add the `ubuntu` user to the `docker` group in order to allow the `ubuntu` user to issue commands to docker without sudo.\n",
    "\n",
    "<include type=\"listing\" label=\"add-to-docker-group\">\n",
    "    \n",
    "```\n",
    "$ sudo usermod -aG docker ubuntu\n",
    "```\n",
    "\n",
    "</include>"
   ]
  },
  {
   "cell_type": "markdown",
   "metadata": {
    "slideshow": {
     "slide_type": "fragment"
    }
   },
   "source": [
    "#### Disconnect and Reconnect to Update Group"
   ]
  },
  {
   "cell_type": "markdown",
   "metadata": {
    "slideshow": {
     "slide_type": "fragment"
    }
   },
   "source": [
    "Finally, in order to force the changes to take effect, you should disconnect and reconnect to their remote system. You can achieve this by typing `exit` or `ctrl-d` and then reconnecting via ssh to your EC2 instance."
   ]
  },
  {
   "cell_type": "markdown",
   "metadata": {
    "slideshow": {
     "slide_type": "slide"
    }
   },
   "source": [
    "### Test Docker Installation"
   ]
  },
  {
   "cell_type": "markdown",
   "metadata": {
    "slideshow": {
     "slide_type": "fragment"
    }
   },
   "source": [
    "Minimally, using Docker to run your code consists of the following:\n",
    "\n",
    "1. Pull a precompiled or build a new **image** from a `Dockerfile`.\n",
    "2. Run the image as a new **container**.\n",
    "\n",
    "If you have just installed Docker for the first time, you might try some minimal commands as verification that the Docker client is correctly installed and available on your path. Here, we demonstrate three ways that this can be done: `docker version`, `docker help`, or `which docker` work well as a minimal test.\n"
   ]
  },
  {
   "cell_type": "code",
   "execution_count": 24,
   "metadata": {
    "slideshow": {
     "slide_type": "subslide"
    }
   },
   "outputs": [
    {
     "name": "stdout",
     "output_type": "stream",
     "text": [
      "Client: Docker Engine - Community\n",
      " Version:           18.09.2\n",
      " API version:       1.39\n",
      " Go version:        go1.10.8\n",
      " Git commit:        6247962\n",
      " Built:             Sun Feb 10 04:12:39 2019\n",
      " OS/Arch:           darwin/amd64\n",
      " Experimental:      false\n",
      "\n",
      "Server: Docker Engine - Community\n",
      " Engine:\n",
      "  Version:          18.09.2\n",
      "  API version:      1.39 (minimum version 1.12)\n",
      "  Go version:       go1.10.6\n",
      "  Git commit:       6247962\n",
      "  Built:            Sun Feb 10 04:13:06 2019\n",
      "  OS/Arch:          linux/amd64\n",
      "  Experimental:     false\n"
     ]
    }
   ],
   "source": [
    "%%bash\n",
    "\n",
    "docker version"
   ]
  },
  {
   "cell_type": "code",
   "execution_count": 25,
   "metadata": {
    "scrolled": true,
    "slideshow": {
     "slide_type": "subslide"
    }
   },
   "outputs": [
    {
     "name": "stdout",
     "output_type": "stream",
     "text": [
      "\n",
      "Usage:\tdocker [OPTIONS] COMMAND\n",
      "\n",
      "A self-sufficient runtime for containers\n",
      "\n",
      "Options:\n",
      "      --config string      Location of client config files (default\n",
      "                           \"/Users/joshuacook/.docker\")\n",
      "  -D, --debug              Enable debug mode\n",
      "  -H, --host list          Daemon socket(s) to connect to\n",
      "  -l, --log-level string   Set the logging level\n",
      "                           (\"debug\"|\"info\"|\"warn\"|\"error\"|\"fatal\")\n",
      "                           (default \"info\")\n",
      "      --tls                Use TLS; implied by --tlsverify\n",
      "      --tlscacert string   Trust certs signed only by this CA (default\n",
      "                           \"/Users/joshuacook/.docker/ca.pem\")\n",
      "      --tlscert string     Path to TLS certificate file (default\n",
      "                           \"/Users/joshuacook/.docker/cert.pem\")\n",
      "      --tlskey string      Path to TLS key file (default\n",
      "                           \"/Users/joshuacook/.docker/key.pem\")\n",
      "      --tlsverify          Use TLS and verify the remote\n",
      "  -v, --version            Print version information and quit\n",
      "\n",
      "Management Commands:\n",
      "  builder     Manage builds\n",
      "  config      Manage Docker configs\n",
      "  container   Manage containers\n",
      "  image       Manage images\n",
      "  network     Manage networks\n",
      "  node        Manage Swarm nodes\n",
      "  plugin      Manage plugins\n",
      "  secret      Manage Docker secrets\n",
      "  service     Manage services\n",
      "  stack       Manage Docker stacks\n",
      "  swarm       Manage Swarm\n",
      "  system      Manage Docker\n",
      "  trust       Manage trust on Docker images\n",
      "  volume      Manage volumes\n",
      "\n",
      "Commands:\n",
      "  attach      Attach local standard input, output, and error streams to a running container\n",
      "  build       Build an image from a Dockerfile\n",
      "  commit      Create a new image from a container's changes\n",
      "  cp          Copy files/folders between a container and the local filesystem\n",
      "  create      Create a new container\n",
      "  diff        Inspect changes to files or directories on a container's filesystem\n",
      "  events      Get real time events from the server\n",
      "  exec        Run a command in a running container\n",
      "  export      Export a container's filesystem as a tar archive\n",
      "  history     Show the history of an image\n",
      "  images      List images\n",
      "  import      Import the contents from a tarball to create a filesystem image\n",
      "  info        Display system-wide information\n",
      "  inspect     Return low-level information on Docker objects\n",
      "  kill        Kill one or more running containers\n",
      "  load        Load an image from a tar archive or STDIN\n",
      "  login       Log in to a Docker registry\n",
      "  logout      Log out from a Docker registry\n",
      "  logs        Fetch the logs of a container\n",
      "  pause       Pause all processes within one or more containers\n",
      "  port        List port mappings or a specific mapping for the container\n",
      "  ps          List containers\n",
      "  pull        Pull an image or a repository from a registry\n",
      "  push        Push an image or a repository to a registry\n",
      "  rename      Rename a container\n",
      "  restart     Restart one or more containers\n",
      "  rm          Remove one or more containers\n",
      "  rmi         Remove one or more images\n",
      "  run         Run a command in a new container\n",
      "  save        Save one or more images to a tar archive (streamed to STDOUT by default)\n",
      "  search      Search the Docker Hub for images\n",
      "  start       Start one or more stopped containers\n",
      "  stats       Display a live stream of container(s) resource usage statistics\n",
      "  stop        Stop one or more running containers\n",
      "  tag         Create a tag TARGET_IMAGE that refers to SOURCE_IMAGE\n",
      "  top         Display the running processes of a container\n",
      "  unpause     Unpause all processes within one or more containers\n",
      "  update      Update configuration of one or more containers\n",
      "  version     Show the Docker version information\n",
      "  wait        Block until one or more containers stop, then print their exit codes\n",
      "\n",
      "Run 'docker COMMAND --help' for more information on a command.\n"
     ]
    }
   ],
   "source": [
    "%%bash\n",
    "docker help"
   ]
  },
  {
   "cell_type": "code",
   "execution_count": 26,
   "metadata": {
    "slideshow": {
     "slide_type": "subslide"
    }
   },
   "outputs": [
    {
     "name": "stdout",
     "output_type": "stream",
     "text": [
      "/usr/local/bin/docker\n"
     ]
    }
   ],
   "source": [
    "%%bash \n",
    "which docker"
   ]
  },
  {
   "cell_type": "markdown",
   "metadata": {
    "slideshow": {
     "slide_type": "slide"
    }
   },
   "source": [
    "## Hello, Docker"
   ]
  },
  {
   "cell_type": "markdown",
   "metadata": {
    "slideshow": {
     "slide_type": "subslide"
    }
   },
   "source": [
    "Having verified that the Docker client is properly installed, you can move on to the canonical “Hello, World!”."
   ]
  },
  {
   "cell_type": "code",
   "execution_count": 27,
   "metadata": {
    "slideshow": {
     "slide_type": "subslide"
    }
   },
   "outputs": [
    {
     "name": "stdout",
     "output_type": "stream",
     "text": [
      "\n",
      "Hello from Docker!\n",
      "This message shows that your installation appears to be working correctly.\n",
      "\n",
      "To generate this message, Docker took the following steps:\n",
      " 1. The Docker client contacted the Docker daemon.\n",
      " 2. The Docker daemon pulled the \"hello-world\" image from the Docker Hub.\n",
      "    (amd64)\n",
      " 3. The Docker daemon created a new container from that image which runs the\n",
      "    executable that produces the output you are currently reading.\n",
      " 4. The Docker daemon streamed that output to the Docker client, which sent it\n",
      "    to your terminal.\n",
      "\n",
      "To try something more ambitious, you can run an Ubuntu container with:\n",
      " $ docker run -it ubuntu bash\n",
      "\n",
      "Share images, automate workflows, and more with a free Docker ID:\n",
      " https://hub.docker.com/\n",
      "\n",
      "For more examples and ideas, visit:\n",
      " https://docs.docker.com/get-started/\n",
      "\n"
     ]
    }
   ],
   "source": [
    "%%bash\n",
    "\n",
    "docker run hello-world"
   ]
  },
  {
   "cell_type": "markdown",
   "metadata": {
    "slideshow": {
     "slide_type": "subslide"
    }
   },
   "source": [
    "### What just happened?"
   ]
  },
  {
   "cell_type": "markdown",
   "metadata": {
    "slideshow": {
     "slide_type": "fragment"
    }
   },
   "source": [
    "When you execute this command, the Docker client sends the `run hello-world` command to the Docker engine. The Docker engine then does the following:\n",
    "\n",
    "1. Checks for the hello-world image in your local cache of images.\n",
    "2. If the image does not exist locally, downloads the image from Docker Hub.\n",
    "3. Creates a new container using the image.\n",
    "4. Allocates a filesystem and adds a read-write layer to the top of the image.\n",
    "5. Sets up an IP address for the system.\n",
    "6. Executes the shell command /hello as specified in the image’s Dockerfile.\n",
    "7. Upon completion of this process, terminates the container and shuts down."
   ]
  },
  {
   "cell_type": "markdown",
   "metadata": {
    "slideshow": {
     "slide_type": "subslide"
    }
   },
   "source": [
    "![](img/image001.png)"
   ]
  },
  {
   "cell_type": "markdown",
   "metadata": {
    "slideshow": {
     "slide_type": "slide"
    }
   },
   "source": [
    "## Docker Run Ubuntu"
   ]
  },
  {
   "cell_type": "code",
   "execution_count": 28,
   "metadata": {
    "scrolled": false,
    "slideshow": {
     "slide_type": "subslide"
    }
   },
   "outputs": [
    {
     "name": "stdout",
     "output_type": "stream",
     "text": [
      "total 72\n",
      "drwxr-xr-x   1 root root 4096 Feb 27 19:06 .\n",
      "drwxr-xr-x   1 root root 4096 Feb 27 19:06 ..\n",
      "-rwxr-xr-x   1 root root    0 Feb 27 19:06 .dockerenv\n",
      "drwxr-xr-x   2 root root 4096 Jan 22 17:50 bin\n",
      "drwxr-xr-x   2 root root 4096 Apr 24  2018 boot\n",
      "drwxr-xr-x   5 root root  340 Feb 27 19:06 dev\n",
      "drwxr-xr-x   1 root root 4096 Feb 27 19:06 etc\n",
      "drwxr-xr-x   2 root root 4096 Apr 24  2018 home\n",
      "drwxr-xr-x   8 root root 4096 May 23  2017 lib\n",
      "drwxr-xr-x   2 root root 4096 Jan 22 17:49 lib64\n",
      "drwxr-xr-x   2 root root 4096 Jan 22 17:48 media\n",
      "drwxr-xr-x   2 root root 4096 Jan 22 17:48 mnt\n",
      "drwxr-xr-x   2 root root 4096 Jan 22 17:48 opt\n",
      "dr-xr-xr-x 184 root root    0 Feb 27 19:06 proc\n",
      "drwx------   2 root root 4096 Jan 22 17:50 root\n",
      "drwxr-xr-x   1 root root 4096 Jan 22 22:41 run\n",
      "drwxr-xr-x   1 root root 4096 Jan 22 22:41 sbin\n",
      "drwxr-xr-x   2 root root 4096 Jan 22 17:48 srv\n",
      "dr-xr-xr-x  13 root root    0 Feb 27 17:15 sys\n",
      "drwxrwxrwt   2 root root 4096 Jan 22 17:51 tmp\n",
      "drwxr-xr-x   1 root root 4096 Jan 22 17:48 usr\n",
      "drwxr-xr-x   1 root root 4096 Jan 22 17:50 var\n"
     ]
    }
   ],
   "source": [
    "%%bash\n",
    "\n",
    "docker run ubuntu ls -la"
   ]
  },
  {
   "cell_type": "markdown",
   "metadata": {
    "slideshow": {
     "slide_type": "subslide"
    }
   },
   "source": [
    "### What just happened?"
   ]
  },
  {
   "cell_type": "markdown",
   "metadata": {
    "slideshow": {
     "slide_type": "fragment"
    }
   },
   "source": [
    "\n",
    "Here, we run the latest Ubuntu image (`run ubuntu`). When you execute this command, the Docker client sends the command to the Docker engine.\n",
    "The Docker engine does the following:\n",
    "\n",
    "1. Checks for the ubuntu image in your local cache of images.\n",
    "1. Downloads the image from Docker Hub, unless the image exists locally.\n",
    "1. Creates a new container using the image.\n",
    "1. Allocates a filesystem and adds a read-write layer to the top of the image.\n",
    "1. Sets up an IP address for the system.\n",
    "1. Executes the process `/bin/bash ls -la` within the container.\n",
    "\n",
    "$\\square$ **Note:** the `/bin/bash` command prefix is defined in the [`Dockerfile`](https://github.com/tianon/docker-brew-ubuntu-core/blob/1cc295b1507b68a66942b2ff5c2dbf395850208a/xenial/Dockerfile#L45) for the Ubuntu image"
   ]
  },
  {
   "cell_type": "markdown",
   "metadata": {
    "slideshow": {
     "slide_type": "slide"
    }
   },
   "source": [
    "## PIDs"
   ]
  },
  {
   "cell_type": "code",
   "execution_count": 29,
   "metadata": {
    "slideshow": {
     "slide_type": "subslide"
    }
   },
   "outputs": [
    {
     "name": "stdout",
     "output_type": "stream",
     "text": [
      "  PID TTY           TIME CMD\n",
      "32332 ttys000    0:00.06 /Applications/iTerm.app/Contents/MacOS/iTerm2 --server login -fp joshuacook\n",
      "32334 ttys000    0:00.62 -bash\n",
      "36159 ttys000    0:25.39 /Users/joshuacook/repos/miniconda/bin/python /Users/joshuacook/repos/miniconda/bin/jupyter-notebook\n",
      "36724 ttys001    0:00.05 /Applications/iTerm.app/Contents/MacOS/iTerm2 --server login -fp joshuacook\n",
      "36727 ttys001    0:01.13 -bash\n",
      "39517 ttys003    0:00.05 /Applications/iTerm.app/Contents/MacOS/iTerm2 --server login -fp joshuacook\n",
      "39519 ttys003    0:00.45 -bash\n",
      "47413 ttys003    0:03.46 /Users/joshuacook/repos/miniconda/bin/python /Users/joshuacook/repos/miniconda/bin/jupyter-notebook\n",
      "47640 ttys004    0:00.04 /Applications/iTerm.app/Contents/MacOS/iTerm2 --server login -fp joshuacook\n",
      "47642 ttys004    0:00.31 -bash\n"
     ]
    }
   ],
   "source": [
    "%%bash\n",
    "\n",
    "ps"
   ]
  },
  {
   "cell_type": "code",
   "execution_count": 30,
   "metadata": {
    "slideshow": {
     "slide_type": "fragment"
    }
   },
   "outputs": [
    {
     "name": "stdout",
     "output_type": "stream",
     "text": [
      "     397\n"
     ]
    }
   ],
   "source": [
    "%%bash\n",
    "\n",
    "ps aux | wc -l"
   ]
  },
  {
   "cell_type": "markdown",
   "metadata": {
    "slideshow": {
     "slide_type": "subslide"
    }
   },
   "source": [
    "### Docker PIDs"
   ]
  },
  {
   "cell_type": "code",
   "execution_count": 31,
   "metadata": {
    "slideshow": {
     "slide_type": "fragment"
    }
   },
   "outputs": [
    {
     "name": "stdout",
     "output_type": "stream",
     "text": [
      "  PID TTY          TIME CMD\n",
      "    1 ?        00:00:00 ps\n"
     ]
    }
   ],
   "source": [
    "%%bash \n",
    "\n",
    "docker run ubuntu ps"
   ]
  },
  {
   "cell_type": "code",
   "execution_count": 33,
   "metadata": {
    "slideshow": {
     "slide_type": "fragment"
    }
   },
   "outputs": [
    {
     "name": "stdout",
     "output_type": "stream",
     "text": [
      "       2\n"
     ]
    }
   ],
   "source": [
    "%%bash \n",
    "\n",
    "docker run ubuntu ps aux | wc -l"
   ]
  },
  {
   "cell_type": "code",
   "execution_count": 34,
   "metadata": {
    "slideshow": {
     "slide_type": "fragment"
    }
   },
   "outputs": [
    {
     "name": "stdout",
     "output_type": "stream",
     "text": [
      "USER       PID %CPU %MEM    VSZ   RSS TTY      STAT START   TIME COMMAND\n",
      "root         1  0.0  0.0  25940  1580 ?        Rs   19:06   0:00 ps aux\n"
     ]
    }
   ],
   "source": [
    "%%bash \n",
    "\n",
    "docker run ubuntu ps aux"
   ]
  },
  {
   "cell_type": "markdown",
   "metadata": {
    "slideshow": {
     "slide_type": "subslide"
    }
   },
   "source": [
    "### Wait, what?"
   ]
  },
  {
   "cell_type": "markdown",
   "metadata": {
    "slideshow": {
     "slide_type": "fragment"
    }
   },
   "source": [
    "It is useful to take note of the state while your Ubuntu image was running. It is not unusual that `ls` would show a complete standard Linux filesystem. It is not unusual that `ps` would return just a few items. It is **highly unusual** that `ps aux` would return one item. \n",
    "\n",
    "`ps aux` shows (a) processes for all users, (u) showing the owner of the process, and (x) including processes that are not attached to any terminal. In other words, in running `ps aux`, you have effectively shown all of the processes currently running on the system. \n",
    "\n",
    "Again, it is highly unusual that the only processes running on the system are the command we just passed. **THIS IS DOCKER**.\n"
   ]
  },
  {
   "cell_type": "markdown",
   "metadata": {
    "slideshow": {
     "slide_type": "subslide"
    }
   },
   "source": [
    "### Deep Dive: Docker PIDs\n",
    "\n",
    "- https://blog.phusion.nl/2015/01/20/docker-and-the-pid-1-zombie-reaping-problem/\n",
    "- https://github.com/krallin/tini\n",
    "- https://engineeringblog.yelp.com/2016/01/dumb-init-an-init-for-docker.html"
   ]
  },
  {
   "cell_type": "markdown",
   "metadata": {
    "slideshow": {
     "slide_type": "slide"
    }
   },
   "source": [
    "## [Containers are not virtual machines](https://blog.docker.com/2016/03/containers-are-not-vms/). Containers are virtual processes."
   ]
  },
  {
   "cell_type": "markdown",
   "metadata": {
    "slideshow": {
     "slide_type": "subslide"
    }
   },
   "source": [
    "### Docker Conceptual Paradigms\n",
    "\n",
    "A `Dockerfile` defines a Docker image. At run time, docker uses an image to launch a container.\n",
    "\n"
   ]
  },
  {
   "cell_type": "code",
   "execution_count": 35,
   "metadata": {
    "slideshow": {
     "slide_type": "fragment"
    }
   },
   "outputs": [
    {
     "name": "stdout",
     "output_type": "stream",
     "text": [
      "REPOSITORY                       TAG                 IMAGE ID            CREATED             SIZE\n",
      "databrickseducation/build-tool   latest              f54ba466599b        5 days ago          1.08GB\n",
      "databrickseducation/build-tool   <none>              cd274fa6c2ca        2 weeks ago         1.08GB\n",
      "dnd                              latest              0a4de7d1344a        3 weeks ago         5.64GB\n",
      "dva                              latest              0a4de7d1344a        3 weeks ago         5.64GB\n",
      "ubuntu                           latest              20bb25d32758        5 weeks ago         87.5MB\n",
      "jupyter/scipy-notebook           latest              c6eed931aa71        7 weeks ago         4.9GB\n",
      "hello-world                      latest              fce289e99eb9        8 weeks ago         1.84kB\n",
      "qqb_this_jupyter                 latest              30c9ffd8009a        2 months ago        5.46GB\n",
      "qqb_this_scheduler               latest              ddcc3d6a4325        2 months ago        963MB\n",
      "qqb_this_scheduler_monitor       latest              ddcc3d6a4325        2 months ago        963MB\n",
      "qqb_this_server                  latest              ddcc3d6a4325        2 months ago        963MB\n",
      "qqb_this_worker                  latest              ddcc3d6a4325        2 months ago        963MB\n",
      "pelican                          latest              cf48b3aced73        2 months ago        6.42GB\n",
      "redis                            latest              ce25c7293564        2 months ago        95MB\n",
      "build                            latest              3a4b33ec5ea4        3 months ago        6.44GB\n",
      "mongo                            latest              525bd2016729        3 months ago        383MB\n",
      "jupyter/datascience-notebook     latest              8f8d027f666d        3 months ago        6.31GB\n",
      "jupyter/scipy-notebook           <none>              11ed466a40e6        3 months ago        4.95GB\n",
      "python                           2                   f67e752245d6        3 months ago        908MB\n",
      "python                           latest              1e80caffd59e        3 months ago        923MB\n",
      "databrickseducation/buildtool    latest              0e2ba1c5a8bf        4 months ago        1.44GB\n",
      "build-tool                       latest              0e2ba1c5a8bf        4 months ago        1.44GB\n"
     ]
    }
   ],
   "source": [
    "%%bash\n",
    "\n",
    "docker images"
   ]
  },
  {
   "cell_type": "code",
   "execution_count": 36,
   "metadata": {
    "slideshow": {
     "slide_type": "subslide"
    }
   },
   "outputs": [
    {
     "name": "stdout",
     "output_type": "stream",
     "text": [
      "CONTAINER ID        IMAGE               COMMAND             CREATED             STATUS              PORTS               NAMES\n"
     ]
    }
   ],
   "source": [
    "%%bash\n",
    "\n",
    "docker ps "
   ]
  },
  {
   "cell_type": "code",
   "execution_count": 37,
   "metadata": {
    "slideshow": {
     "slide_type": "subslide"
    }
   },
   "outputs": [
    {
     "name": "stdout",
     "output_type": "stream",
     "text": [
      "CONTAINER ID        IMAGE               COMMAND                  CREATED             STATUS                         PORTS               NAMES\n",
      "170ed87eed97        ubuntu              \"ps aux\"                 4 minutes ago       Exited (0) 4 minutes ago                           relaxed_antonelli\n",
      "8cc57fee8ed8        ubuntu              \"ps aux\"                 4 minutes ago       Exited (0) 4 minutes ago                           cranky_chandrasekhar\n",
      "7461ea8a0256        ubuntu              \"ps aux\"                 4 minutes ago       Exited (0) 4 minutes ago                           pensive_shockley\n",
      "8635788043a2        ubuntu              \"ps\"                     4 minutes ago       Exited (0) 4 minutes ago                           affectionate_tereshkova\n",
      "e141d504c445        ubuntu              \"ls -la\"                 4 minutes ago       Exited (0) 4 minutes ago                           romantic_cartwright\n",
      "3b469ff50f57        hello-world         \"/hello\"                 4 minutes ago       Exited (0) 4 minutes ago                           pensive_edison\n",
      "f0244d0d1799        ubuntu              \"ps aux\"                 About an hour ago   Exited (0) About an hour ago                       relaxed_wiles\n",
      "aa5a579b70e0        ubuntu              \"ps aux\"                 About an hour ago   Exited (0) About an hour ago                       thirsty_raman\n",
      "b96005720f4e        ubuntu              \"ps aux\"                 About an hour ago   Exited (0) About an hour ago                       sharp_jackson\n",
      "71a39a2c4e2a        ubuntu              \"ps\"                     About an hour ago   Exited (0) About an hour ago                       heuristic_snyder\n",
      "a78ab14a9842        ubuntu              \"ls -la\"                 About an hour ago   Exited (0) About an hour ago                       cranky_jepsen\n",
      "42a3f20d8e25        hello-world         \"/hello\"                 About an hour ago   Exited (0) About an hour ago                       compassionate_nightingale\n",
      "89f35c820d6b        ubuntu              \"ps aux\"                 2 hours ago         Exited (0) 2 hours ago                             confident_khorana\n",
      "de690cea6d03        ubuntu              \"ps aux\"                 2 hours ago         Exited (0) 2 hours ago                             awesome_ganguly\n",
      "94194ecca834        ubuntu              \"ps\"                     2 hours ago         Exited (0) 2 hours ago                             vigilant_greider\n",
      "aa0dcf06c50a        ubuntu              \"ps aux\"                 2 hours ago         Exited (0) 2 hours ago                             affectionate_nobel\n",
      "6cb8e6e83bfb        ubuntu              \"ps aux\"                 2 hours ago         Exited (0) 2 hours ago                             practical_ramanujan\n",
      "871c83494951        ubuntu              \"ls -la\"                 2 hours ago         Exited (0) 2 hours ago                             angry_curie\n",
      "99edbd1acfbf        hello-world         \"/hello\"                 2 hours ago         Exited (0) 2 hours ago                             jolly_snyder\n",
      "62177e1b09f4        dnd                 \"tini -g -- pandoc c…\"   44 hours ago        Exited (43) 44 hours ago                           eloquent_zhukovsky\n",
      "8af7dc9ce04a        dnd                 \"tini -g -- pandoc c…\"   44 hours ago        Exited (43) 44 hours ago                           romantic_swartz\n",
      "72da09512e2a        dnd                 \"tini -g -- pandoc c…\"   44 hours ago        Exited (0) 44 hours ago                            xenodochial_borg\n",
      "216bf40bc8b5        dnd                 \"tini -g -- pandoc c…\"   44 hours ago        Exited (43) 44 hours ago                           festive_herschel\n",
      "3a2253d003da        dnd                 \"tini -g -- pandoc c…\"   44 hours ago        Exited (43) 44 hours ago                           eager_dubinsky\n",
      "4324b12557a3        dnd                 \"tini -g -- pandoc c…\"   45 hours ago        Exited (0) 45 hours ago                            brave_turing\n",
      "d12d3b9cb768        dnd                 \"tini -g -- pandoc c…\"   45 hours ago        Exited (0) 45 hours ago                            loving_goldstine\n",
      "7948df784e30        dnd                 \"tini -g -- pandoc c…\"   45 hours ago        Exited (0) 45 hours ago                            modest_elgamal\n",
      "a451151f730a        dnd                 \"tini -g -- pandoc c…\"   45 hours ago        Exited (0) 45 hours ago                            relaxed_archimedes\n",
      "fb86b21ee25e        dnd                 \"tini -g -- pandoc c…\"   45 hours ago        Exited (0) 45 hours ago                            sharp_germain\n",
      "708df5b885c9        dnd                 \"tini -g -- pandoc c…\"   45 hours ago        Exited (0) 45 hours ago                            focused_engelbart\n",
      "84fca9803dee        dnd                 \"tini -g -- pandoc c…\"   45 hours ago        Exited (43) 45 hours ago                           dreamy_goldwasser\n",
      "ae47844e4fc3        dnd                 \"tini -g -- pandoc c…\"   45 hours ago        Exited (43) 45 hours ago                           mystifying_agnesi\n",
      "4f0f2c19a306        dnd                 \"tini -g -- pandoc c…\"   45 hours ago        Exited (0) 45 hours ago                            vigorous_kare\n",
      "6b2d42a55c04        dnd                 \"tini -g -- pandoc c…\"   45 hours ago        Exited (0) 45 hours ago                            pedantic_almeida\n",
      "919ccd6b1c51        dnd                 \"tini -g -- pandoc c…\"   45 hours ago        Exited (0) 45 hours ago                            distracted_johnson\n",
      "4f1d328c8e55        dnd                 \"tini -g -- pandoc c…\"   45 hours ago        Exited (0) 45 hours ago                            pensive_ride\n",
      "d2040a6a9b89        dnd                 \"tini -g -- pandoc c…\"   45 hours ago        Exited (0) 45 hours ago                            affectionate_bardeen\n",
      "3b6b72139791        dnd                 \"tini -g -- pandoc c…\"   45 hours ago        Exited (0) 45 hours ago                            gallant_lehmann\n",
      "a8c4f14300c7        dnd                 \"tini -g -- pandoc c…\"   45 hours ago        Exited (0) 45 hours ago                            cranky_fermi\n",
      "da603cdb32d3        dnd                 \"tini -g -- pandoc c…\"   45 hours ago        Exited (0) 45 hours ago                            recursing_herschel\n",
      "24ebb9408cd2        dnd                 \"tini -g -- pandoc c…\"   45 hours ago        Exited (0) 45 hours ago                            practical_swartz\n",
      "b9cfa07909ca        dnd                 \"tini -g -- pandoc c…\"   45 hours ago        Exited (1) 45 hours ago                            stupefied_merkle\n",
      "62bcd5ba80a9        dnd                 \"tini -g -- pandoc c…\"   45 hours ago        Exited (0) 45 hours ago                            hungry_brown\n",
      "bad40a412cb7        dnd                 \"tini -g -- pandoc c…\"   45 hours ago        Exited (43) 45 hours ago                           ecstatic_hodgkin\n",
      "d60698e759de        dnd                 \"tini -g -- pandoc c…\"   47 hours ago        Exited (43) 47 hours ago                           priceless_bardeen\n",
      "e2191a699a51        dnd                 \"tini -g -- pandoc c…\"   47 hours ago        Exited (43) 47 hours ago                           stupefied_tesla\n",
      "afcb6ae7bab8        dnd                 \"tini -g -- pandoc c…\"   47 hours ago        Exited (0) 47 hours ago                            vigilant_goldstine\n",
      "5a9df7aa0973        dnd                 \"tini -g -- pandoc c…\"   47 hours ago        Exited (0) 47 hours ago                            amazing_dhawan\n",
      "7f4d58ebb5fe        dnd                 \"tini -g -- run -v /…\"   47 hours ago        Exited (127) 47 hours ago                          quizzical_joliot\n",
      "2c943a75f064        dnd                 \"tini -g -- pandoc c…\"   4 days ago          Exited (0) 4 days ago                              boring_hermann\n",
      "ac8622aad6ab        dnd                 \"tini -g -- pandoc c…\"   4 days ago          Exited (0) 4 days ago                              xenodochial_knuth\n",
      "fe1fc4886fe9        dnd                 \"tini -g -- pandoc c…\"   5 days ago          Exited (0) 5 days ago                              zealous_tharp\n",
      "538f22ae3e2a        dnd                 \"tini -g -- pandoc c…\"   5 days ago          Exited (0) 5 days ago                              pedantic_wu\n",
      "01ca484d6a07        dnd                 \"tini -g -- start-no…\"   2 weeks ago         Exited (0) 2 weeks ago                             eloquent_taussig\n",
      "d7f9e35dca8b        dnd                 \"tini -g -- start-no…\"   2 weeks ago         Exited (0) 2 weeks ago                             adoring_johnson\n",
      "b1839d6f934f        dva                 \"tini -g -- start-no…\"   2 weeks ago         Exited (0) 2 weeks ago                             sad_davinci\n",
      "525f5d0e0bbb        python              \"-m tmp.foo\"             4 weeks ago         Created                                            sleepy_payne\n",
      "9ae40fde91f1        python              \"bash\"                   4 weeks ago         Exited (0) 4 weeks ago                             upbeat_grothendieck\n",
      "237d7785105e        python              \"bash pwd\"               4 weeks ago         Exited (126) 4 weeks ago                           kind_mclaren\n",
      "a9479ac2c601        ubuntu              \"bash\"                   4 weeks ago         Exited (0) 4 weeks ago                             confident_germain\n",
      "3e8297f7c8b6        build               \"tini -g -- python -…\"   7 weeks ago         Exited (1) 7 weeks ago                             admiring_wozniak\n",
      "61a5dc18a89d        build               \"tini -g -- python -…\"   7 weeks ago         Exited (1) 7 weeks ago                             trusting_panini\n"
     ]
    }
   ],
   "source": [
    "%%bash\n",
    "\n",
    "docker ps -a\n"
   ]
  },
  {
   "cell_type": "markdown",
   "metadata": {
    "slideshow": {
     "slide_type": "subslide"
    }
   },
   "source": [
    "### Weak Allegory - Object-Oriented Programming\n",
    "\n",
    "- Images ~ Classes\n",
    "- Containers ~ Objects"
   ]
  },
  {
   "cell_type": "markdown",
   "metadata": {
    "slideshow": {
     "slide_type": "subslide"
    }
   },
   "source": [
    "### Strong Allegory - Binaries\n",
    "\n",
    "- Images ~ Compiled Binaries\n",
    "- Containers ~ Running Process of a Binary\n",
    "\n",
    "That's why we use `docker ps`!"
   ]
  },
  {
   "cell_type": "markdown",
   "metadata": {
    "slideshow": {
     "slide_type": "slide"
    }
   },
   "source": [
    "## Defining an Image"
   ]
  },
  {
   "cell_type": "markdown",
   "metadata": {
    "slideshow": {
     "slide_type": "fragment"
    }
   },
   "source": [
    "A `Dockerfile` is used to define a Docker image."
   ]
  },
  {
   "cell_type": "markdown",
   "metadata": {
    "slideshow": {
     "slide_type": "subslide"
    }
   },
   "source": [
    "### The `build-tool` image"
   ]
  },
  {
   "cell_type": "markdown",
   "metadata": {
    "slideshow": {
     "slide_type": "fragment"
    }
   },
   "source": [
    "```\n",
    "FROM python:2\n",
    "RUN touch /etc/in-docker\n",
    "RUN pip install git+https://github.com/databricks-edu/build-tooling\n",
    "RUN apt-get update && apt-get install -y less zip unzip vim nano\n",
    "RUN curl \"https://s3.amazonaws.com/aws-cli/awscli-bundle.zip\" -o \"awscli-bundle.zip\"\n",
    "RUN unzip awscli-bundle.zip\n",
    "RUN ./awscli-bundle/install -i /usr/local/aws -b /usr/local/bin/aws\n",
    "```\n",
    "\n",
    "Built using the [Python](https://hub.docker.com/_/python) core image."
   ]
  },
  {
   "cell_type": "markdown",
   "metadata": {
    "slideshow": {
     "slide_type": "subslide"
    }
   },
   "source": [
    "### `docker build`"
   ]
  },
  {
   "cell_type": "markdown",
   "metadata": {
    "slideshow": {
     "slide_type": "fragment"
    }
   },
   "source": [
    "To use this image, it must be built. Brian and I have set up an automated build process to do this for us. \n",
    "\n",
    "Every time a change is made to the github repo `databricks-edu/build-tooling` an automated build is triggered on Docker Hub: https://hub.docker.com/r/databrickseducation/build-tool\n",
    "\n",
    "This could be done manually via `docker build` e.g.\n",
    "\n",
    "```\n",
    "docker build -t SOME_IMAGE_NAME SOME_DOCKERFILE_LOCATION\n",
    "```"
   ]
  },
  {
   "cell_type": "markdown",
   "metadata": {
    "slideshow": {
     "slide_type": "fragment"
    }
   },
   "source": [
    "This means that to get the latest updates of the build-tooling, all this is necessary is to do a `docker pull`. \n",
    "\n",
    "Brian added this to the script `docker/install.sh`."
   ]
  },
  {
   "cell_type": "code",
   "execution_count": 38,
   "metadata": {
    "slideshow": {
     "slide_type": "subslide"
    }
   },
   "outputs": [
    {
     "name": "stdout",
     "output_type": "stream",
     "text": [
      "/Users/joshuacook/repos/build-tooling\n"
     ]
    }
   ],
   "source": [
    "cd ~/repos/build-tooling/"
   ]
  },
  {
   "cell_type": "code",
   "execution_count": 39,
   "metadata": {
    "slideshow": {
     "slide_type": "subslide"
    }
   },
   "outputs": [
    {
     "name": "stdout",
     "output_type": "stream",
     "text": [
      "Already up to date.\n"
     ]
    }
   ],
   "source": [
    "%%bash\n",
    "\n",
    "git pull"
   ]
  },
  {
   "cell_type": "code",
   "execution_count": 40,
   "metadata": {
    "slideshow": {
     "slide_type": "subslide"
    }
   },
   "outputs": [
    {
     "name": "stdout",
     "output_type": "stream",
     "text": [
      "Pulling databrickseducation/build-tool:latest ...\n",
      "\n",
      "latest: Pulling from databrickseducation/build-tool\n",
      "Digest: sha256:77a8dbb69b52f32090bce773823adbf05d85a8275445397f5f274c785364e502\n",
      "Status: Image is up to date for databrickseducation/build-tool:latest\n",
      "\n",
      "Updating aliases ...\n",
      "\n",
      "Done!\n",
      "\n",
      "If you haven't already done so, add the following to your .bashrc or .zshrc:\n",
      "\n",
      ". ~/.build-tools-aliases.sh\n"
     ]
    }
   ],
   "source": [
    "%%bash\n",
    "\n",
    "./docker/install.sh"
   ]
  },
  {
   "cell_type": "markdown",
   "metadata": {
    "slideshow": {
     "slide_type": "slide"
    }
   },
   "source": [
    "## Using the Build Tools"
   ]
  },
  {
   "cell_type": "markdown",
   "metadata": {
    "slideshow": {
     "slide_type": "subslide"
    }
   },
   "source": [
    "### The Aliases"
   ]
  },
  {
   "cell_type": "code",
   "execution_count": 41,
   "metadata": {
    "scrolled": true,
    "slideshow": {
     "slide_type": "fragment"
    }
   },
   "outputs": [
    {
     "name": "stdout",
     "output_type": "stream",
     "text": [
      "alias bdc=\"docker run -it --rm -w `pwd` -e DB_SHARD_HOME=$DB_SHARD_HOME -e HOME=$HOME -v $HOME:$HOME databrickseducation/build-tool:$BUILD_TOOL_DOCKER_TAG bdc\"\n",
      "alias databricks=\"docker run -it --rm -w `pwd` -e HOME=$HOME -v $HOME:$HOME databrickseducation/build-tool:$BUILD_TOOL_DOCKER_TAG databricks\"\n",
      "alias gendbc=\"docker run -it --rm -w `pwd` -e HOME=$HOME -v $HOME:$HOME databrickseducation/build-tool:$BUILD_TOOL_DOCKER_TAG gendbc\"\n",
      "alias master_parse=\"docker run -it --rm -w `pwd` -e HOME=$HOME -v $HOME:$HOME databrickseducation/build-tool:$BUILD_TOOL_DOCKER_TAG master_parse\"\n"
     ]
    }
   ],
   "source": [
    "%%bash\n",
    "\n",
    "head -n 14 ~/.build-tools-aliases.sh | tail -n 4"
   ]
  },
  {
   "cell_type": "markdown",
   "metadata": {
    "slideshow": {
     "slide_type": "subslide"
    }
   },
   "source": [
    "### What will happen?"
   ]
  },
  {
   "cell_type": "markdown",
   "metadata": {
    "slideshow": {
     "slide_type": "fragment"
    }
   },
   "source": [
    "When you run \n",
    "\n",
    "```\n",
    "bdc some_course.yaml\n",
    "``` \n",
    "\n",
    "via the alias, you are actually running\n",
    "\n",
    "```\n",
    "docker run -it --rm -w `pwd` -e DB_SHARD_HOME=$DB_SHARD_HOME -e HOME=$HOME -v $HOME:$HOME databrickseducation/build-tool:$BUILD_TOOL_DOCKER_TAG bdc\n",
    "```"
   ]
  },
  {
   "cell_type": "markdown",
   "metadata": {
    "slideshow": {
     "slide_type": "subslide"
    }
   },
   "source": [
    "The Docker client sends the command to the Docker engine. The Docker engine does the following:\n",
    "\n",
    "1. Locates the `databrickseducation/build-tool` image in your local cache of images.\n",
    "1. Creates a new container using the image.\n",
    "1. Allocates a filesystem and adds a read-write layer to the top of the image.\n",
    "1. Executes the process `bdc some_course.yaml` within the container."
   ]
  },
  {
   "cell_type": "markdown",
   "metadata": {
    "slideshow": {
     "slide_type": "subslide"
    }
   },
   "source": [
    "The following flags are used:\n",
    "\n",
    "- `-it ` ensures that the process is interactive with terminal emulation attached\n",
    "- `--rm` removes the container when the process is complete\n",
    "- `-e` exports each of these environment variables\n",
    "- `-v` attaches `$HOME` on the host to `$HOME` in the container (which was previously defined to be the same thing)\n",
    "- `-w` sets the current directory on the host system (```pwd```) to be the working directory (the directory from which docker will run the command) in the container."
   ]
  },
  {
   "cell_type": "markdown",
   "metadata": {
    "slideshow": {
     "slide_type": "subslide"
    }
   },
   "source": [
    "### The `course` tool"
   ]
  },
  {
   "cell_type": "markdown",
   "metadata": {
    "slideshow": {
     "slide_type": "fragment"
    }
   },
   "source": [
    "The course tool requires several additional environment variables. To do this, the alias file contains two helper functions:\n",
    "\n",
    "- `create_course_envfile` - which creates a file of the necessary environment \n",
    "- `course` - a wrapper function that creates a temporary envfile and passes this file to the docker engine at runtime. "
   ]
  },
  {
   "cell_type": "code",
   "execution_count": 42,
   "metadata": {
    "scrolled": true,
    "slideshow": {
     "slide_type": "subslide"
    }
   },
   "outputs": [
    {
     "name": "stdout",
     "output_type": "stream",
     "text": [
      "function create_course_envfile {\n",
      "  : ${1?'Missing file name'}\n",
      "  egrep=`echo $COURSE_ENV_VARS | sed 's/ /|/g'`\n",
      "  env | egrep \"$egrep\" >$1\n",
      "}\n",
      "\n",
      "# The course tool can look at a lot of environment variables. To ease passing\n",
      "# the entire environment into the tool, this \"alias\" is defined as a function.\n",
      "\n",
      "function course {\n",
      "\n",
      "  : ${BUILD_TOOL_DOCKER_TAG:=latest}\n",
      "\n",
      "  TMP_ENV=/tmp/course-env.$$\n",
      "\n",
      "  create_course_envfile $TMP_ENV\n",
      "\n",
      "  docker run -it --rm -w `pwd` --env-file $TMP_ENV -e HOME=$HOME -v $HOME:$HOME databrickseducation/build-tool:$BUILD_TOOL_DOCKER_TAG course \"$@\"\n",
      "\n",
      "  rm -f $TMP_ENV\n",
      "}\n",
      "\n",
      "\n"
     ]
    }
   ],
   "source": [
    "%%bash\n",
    "\n",
    "tail -n 23 ~/.build-tools-aliases.sh"
   ]
  },
  {
   "cell_type": "markdown",
   "metadata": {
    "slideshow": {
     "slide_type": "slide"
    }
   },
   "source": [
    "## What do I need to do?\n",
    "\n",
    "1. Install Docker.\n",
    "2. Clone the `build-tooling` repo.\n",
    "3. `cd build-tooling`\n",
    "4. (If necessary) update `build-tooling`\n",
    "   ```\n",
    "   git pull\n",
    "   ```\n",
    "5. Run the install script.\n",
    "\n",
    "   ```\n",
    "   ./docker/install.sh\n",
    "   ```\n",
    "6. Use the build tools as you normally would \n",
    "\n",
    "   ```\n",
    "   course arg1 arg2 ...\n",
    "   bdc ... course.yaml\n",
    "   ...\n",
    "   ```\n",
    " "
   ]
  }
 ],
 "metadata": {
  "celltoolbar": "Slideshow",
  "kernelspec": {
   "display_name": "Python 3",
   "language": "python",
   "name": "python3"
  },
  "language_info": {
   "codemirror_mode": {
    "name": "ipython",
    "version": 3
   },
   "file_extension": ".py",
   "mimetype": "text/x-python",
   "name": "python",
   "nbconvert_exporter": "python",
   "pygments_lexer": "ipython3",
   "version": "3.7.1"
  }
 },
 "nbformat": 4,
 "nbformat_minor": 2
}
