{
 "cells": [
  {
   "cell_type": "markdown",
   "metadata": {
    "slideshow": {
     "slide_type": "slide"
    }
   },
   "source": [
    "# Docker Lunch and Learn"
   ]
  },
  {
   "cell_type": "markdown",
   "metadata": {
    "slideshow": {
     "slide_type": "slide"
    }
   },
   "source": [
    "## Installation"
   ]
  },
  {
   "cell_type": "markdown",
   "metadata": {
    "slideshow": {
     "slide_type": "subslide"
    }
   },
   "source": [
    "### Installing and Configuring Docker"
   ]
  },
  {
   "cell_type": "markdown",
   "metadata": {
    "slideshow": {
     "slide_type": "subslide"
    }
   },
   "source": [
    "#### Install on Mac "
   ]
  },
  {
   "cell_type": "markdown",
   "metadata": {
    "slideshow": {
     "slide_type": "fragment"
    }
   },
   "source": [
    "Follow this link for all contemporary (~> 2016) Mac hardware: https://hub.docker.com/editions/community/docker-ce-desktop-mac\n"
   ]
  },
  {
   "cell_type": "markdown",
   "metadata": {
    "slideshow": {
     "slide_type": "subslide"
    }
   },
   "source": [
    "#### Install on AWS"
   ]
  },
  {
   "cell_type": "markdown",
   "metadata": {
    "slideshow": {
     "slide_type": "fragment"
    }
   },
   "source": [
    "Installing Docker on an AWS instance is a trivial process. It consists of running an install script that can be obtained from Docker and then adding your user to the Docker group. Below, we run these two commands. First, we download the install script from https://get.docker.com, then immediately pipe the script into the shell (`| sh`).\n",
    "\n",
    "There are new projects called [Docker on AWS](https://docs.docker.com/docker-for-aws/) and [Docker for Azure](https://docs.docker.com/docker-for-azure/) that do this config for you. \n",
    "\n"
   ]
  },
  {
   "cell_type": "markdown",
   "metadata": {
    "slideshow": {
     "slide_type": "fragment"
    }
   },
   "source": [
    "$\\square$ **Note:** It is generally considered to be a significant security vulnerability to execute arbitrary code obtained from an unknown, or untrusted source. For our purposes, the source (https://get.docker/com) is considered trustworthy, we are using SSL to perform the curl. It may make the security minded more comfortable to `curl` the script to a local file, inspect, and then run it. **In practice the method below is the method I use to install Docker.**"
   ]
  },
  {
   "cell_type": "markdown",
   "metadata": {
    "slideshow": {
     "slide_type": "subslide"
    }
   },
   "source": [
    "#### Important Note re: Installation on Linux"
   ]
  },
  {
   "cell_type": "markdown",
   "metadata": {
    "slideshow": {
     "slide_type": "fragment"
    }
   },
   "source": [
    "$\\square$ **Note:** Do not install via `apt` or `yum` directly. Follow the Docker instructions for your system. https://docs.docker.com/install/"
   ]
  },
  {
   "cell_type": "markdown",
   "metadata": {
    "slideshow": {
     "slide_type": "fragment"
    }
   },
   "source": [
    "<img src=\"https://www.evernote.com/l/AAFDeHFBjO9P5qVykXyJZ22ycdQJArLe1fUB/image.png\" width=600px>"
   ]
  },
  {
   "cell_type": "markdown",
   "metadata": {
    "slideshow": {
     "slide_type": "subslide"
    }
   },
   "source": [
    "#### Install Docker via a Shell Script\n",
    "\n",
    "<include type=\"listing\" label=\"install-docker\">\n",
    "    \n",
    "```\n",
    "$ curl -sSL https://get.docker.com | sh\n",
    "# Executing docker install script, commit: 1d31602\n",
    "+ sudo -E sh -c apt-get update -qq >/dev/null\n",
    "...\n",
    "\n",
    "Client:\n",
    " Version:   18.02.0-ce\n",
    " API version:   1.36\n",
    " Go version:    go1.9.3\n",
    " Git commit:    fc4de44\n",
    " Built: Wed Feb  7 21:16:33 2018\n",
    " OS/Arch:   linux/amd64\n",
    " Experimental:  false\n",
    " Orchestrator:  swarm\n",
    "\n",
    "Server:\n",
    " Engine:\n",
    "  Version:  18.02.0-ce\n",
    "  API version:  1.36 (minimum version 1.12)\n",
    "  Go version:   go1.9.3\n",
    "  Git commit:   fc4de44\n",
    "  Built:    Wed Feb  7 21:15:05 2018\n",
    "  OS/Arch:  linux/amd64\n",
    "  Experimental: false\n",
    "\n",
    "...\n",
    "\n",
    "```\n",
    "\n",
    "</include>"
   ]
  },
  {
   "cell_type": "markdown",
   "metadata": {
    "slideshow": {
     "slide_type": "subslide"
    }
   },
   "source": [
    "#### Add the Ubuntu User to the Docker Group\n",
    "\n",
    "When the script completes there is one last thing to be done. Add the `ubuntu` user to the `docker` group. By default, the command line docker client will require sudo access in order to issue commands to the docker daemon. You can add the `ubuntu` user to the `docker` group in order to allow the `ubuntu` user to issue commands to docker without sudo.\n",
    "\n",
    "<include type=\"listing\" label=\"add-to-docker-group\">\n",
    "    \n",
    "```\n",
    "$ sudo usermod -aG docker ubuntu\n",
    "```\n",
    "\n",
    "</include>"
   ]
  },
  {
   "cell_type": "markdown",
   "metadata": {
    "slideshow": {
     "slide_type": "fragment"
    }
   },
   "source": [
    "#### Disconnect and Reconnect to Update Group"
   ]
  },
  {
   "cell_type": "markdown",
   "metadata": {
    "slideshow": {
     "slide_type": "fragment"
    }
   },
   "source": [
    "Finally, in order to force the changes to take effect, you should disconnect and reconnect to their remote system. You can achieve this by typing `exit` or `ctrl-d` and then reconnecting via ssh to your EC2 instance."
   ]
  },
  {
   "cell_type": "markdown",
   "metadata": {
    "slideshow": {
     "slide_type": "slide"
    }
   },
   "source": [
    "### Test Docker Installation"
   ]
  },
  {
   "cell_type": "markdown",
   "metadata": {
    "slideshow": {
     "slide_type": "fragment"
    }
   },
   "source": [
    "Minimally, using Docker to run your code consists of the following:\n",
    "\n",
    "1. Pull a precompiled or build a new **image** from a `Dockerfile`.\n",
    "2. Run the image as a new **container**.\n",
    "\n",
    "If you have just installed Docker for the first time, you might try some minimal commands as verification that the Docker client is correctly installed and available on your path. Here, we demonstrate three ways that this can be done: `docker version`, `docker help`, or `which docker` work well as a minimal test.\n"
   ]
  },
  {
   "cell_type": "code",
   "execution_count": null,
   "metadata": {
    "slideshow": {
     "slide_type": "subslide"
    }
   },
   "outputs": [],
   "source": [
    "%%bash\n",
    "\n",
    "docker version"
   ]
  },
  {
   "cell_type": "code",
   "execution_count": null,
   "metadata": {
    "scrolled": true,
    "slideshow": {
     "slide_type": "subslide"
    }
   },
   "outputs": [],
   "source": [
    "%%bash\n",
    "docker help"
   ]
  },
  {
   "cell_type": "code",
   "execution_count": null,
   "metadata": {
    "slideshow": {
     "slide_type": "subslide"
    }
   },
   "outputs": [],
   "source": [
    "%%bash \n",
    "which docker"
   ]
  },
  {
   "cell_type": "markdown",
   "metadata": {
    "slideshow": {
     "slide_type": "slide"
    }
   },
   "source": [
    "## Hello, Docker"
   ]
  },
  {
   "cell_type": "markdown",
   "metadata": {
    "slideshow": {
     "slide_type": "subslide"
    }
   },
   "source": [
    "Having verified that the Docker client is properly installed, you can move on to the canonical “Hello, World!”."
   ]
  },
  {
   "cell_type": "code",
   "execution_count": null,
   "metadata": {
    "slideshow": {
     "slide_type": "subslide"
    }
   },
   "outputs": [],
   "source": [
    "%%bash\n",
    "\n",
    "docker run hello-world"
   ]
  },
  {
   "cell_type": "markdown",
   "metadata": {
    "slideshow": {
     "slide_type": "subslide"
    }
   },
   "source": [
    "### What just happened?"
   ]
  },
  {
   "cell_type": "markdown",
   "metadata": {
    "slideshow": {
     "slide_type": "fragment"
    }
   },
   "source": [
    "When you execute this command, the Docker client sends the `run hello-world` command to the Docker engine. The Docker engine then does the following:\n",
    "\n",
    "1. Checks for the hello-world image in your local cache of images.\n",
    "2. If the image does not exist locally, downloads the image from Docker Hub.\n",
    "3. Creates a new container using the image.\n",
    "4. Allocates a filesystem and adds a read-write layer to the top of the image.\n",
    "5. Sets up an IP address for the system.\n",
    "6. Executes the shell command /hello as specified in the image’s Dockerfile.\n",
    "7. Upon completion of this process, terminates the container and shuts down."
   ]
  },
  {
   "cell_type": "markdown",
   "metadata": {
    "slideshow": {
     "slide_type": "subslide"
    }
   },
   "source": [
    "![](img/image001.png)"
   ]
  },
  {
   "cell_type": "markdown",
   "metadata": {
    "slideshow": {
     "slide_type": "slide"
    }
   },
   "source": [
    "## Docker Run Ubuntu"
   ]
  },
  {
   "cell_type": "code",
   "execution_count": null,
   "metadata": {
    "scrolled": false,
    "slideshow": {
     "slide_type": "subslide"
    }
   },
   "outputs": [],
   "source": [
    "%%bash\n",
    "\n",
    "docker run ubuntu ls -la"
   ]
  },
  {
   "cell_type": "markdown",
   "metadata": {
    "slideshow": {
     "slide_type": "subslide"
    }
   },
   "source": [
    "### What just happened?"
   ]
  },
  {
   "cell_type": "markdown",
   "metadata": {
    "slideshow": {
     "slide_type": "fragment"
    }
   },
   "source": [
    "\n",
    "Here, we run the latest Ubuntu image (`run ubuntu`). When you execute this command, the Docker client sends the command to the Docker engine.\n",
    "The Docker engine does the following:\n",
    "\n",
    "1. Checks for the ubuntu image in your local cache of images.\n",
    "1. Downloads the image from Docker Hub, unless the image exists locally.\n",
    "1. Creates a new container using the image.\n",
    "1. Allocates a filesystem and adds a read-write layer to the top of the image.\n",
    "1. Sets up an IP address for the system.\n",
    "1. Executes the process `/bin/bash ls -la` within the container.\n",
    "\n",
    "$\\square$ **Note:** the `/bin/bash` command prefix is defined in the [`Dockerfile`](https://github.com/tianon/docker-brew-ubuntu-core/blob/1cc295b1507b68a66942b2ff5c2dbf395850208a/xenial/Dockerfile#L45) for the Ubuntu image"
   ]
  },
  {
   "cell_type": "markdown",
   "metadata": {
    "slideshow": {
     "slide_type": "slide"
    }
   },
   "source": [
    "## PIDs"
   ]
  },
  {
   "cell_type": "code",
   "execution_count": null,
   "metadata": {
    "slideshow": {
     "slide_type": "subslide"
    }
   },
   "outputs": [],
   "source": [
    "%%bash\n",
    "\n",
    "ps"
   ]
  },
  {
   "cell_type": "code",
   "execution_count": null,
   "metadata": {
    "slideshow": {
     "slide_type": "fragment"
    }
   },
   "outputs": [],
   "source": [
    "%%bash\n",
    "\n",
    "ps aux | wc -l"
   ]
  },
  {
   "cell_type": "markdown",
   "metadata": {
    "slideshow": {
     "slide_type": "subslide"
    }
   },
   "source": [
    "### Docker PIDs"
   ]
  },
  {
   "cell_type": "code",
   "execution_count": null,
   "metadata": {
    "slideshow": {
     "slide_type": "fragment"
    }
   },
   "outputs": [],
   "source": [
    "%%bash \n",
    "\n",
    "docker run ubuntu ps"
   ]
  },
  {
   "cell_type": "code",
   "execution_count": null,
   "metadata": {
    "slideshow": {
     "slide_type": "fragment"
    }
   },
   "outputs": [],
   "source": [
    "%%bash \n",
    "\n",
    "docker run ubuntu ps aux | wc -l"
   ]
  },
  {
   "cell_type": "code",
   "execution_count": null,
   "metadata": {
    "slideshow": {
     "slide_type": "fragment"
    }
   },
   "outputs": [],
   "source": [
    "%%bash \n",
    "\n",
    "docker run ubuntu ps aux"
   ]
  },
  {
   "cell_type": "markdown",
   "metadata": {
    "slideshow": {
     "slide_type": "subslide"
    }
   },
   "source": [
    "### Wait, what?"
   ]
  },
  {
   "cell_type": "markdown",
   "metadata": {
    "slideshow": {
     "slide_type": "fragment"
    }
   },
   "source": [
    "It is useful to take note of the state while your Ubuntu image was running. It is not unusual that `ls` would show a complete standard Linux filesystem. It is not unusual that `ps` would return just a few items. It is **highly unusual** that `ps aux` would return one item. \n",
    "\n",
    "`ps aux` shows (a) processes for all users, (u) showing the owner of the process, and (x) including processes that are not attached to any terminal. In other words, in running `ps aux`, you have effectively shown all of the processes currently running on the system. \n",
    "\n",
    "Again, it is highly unusual that the only processes running on the system are the command we just passed. **THIS IS DOCKER**.\n"
   ]
  },
  {
   "cell_type": "markdown",
   "metadata": {
    "slideshow": {
     "slide_type": "subslide"
    }
   },
   "source": [
    "### Deep Dive: Docker PIDs\n",
    "\n",
    "- https://blog.phusion.nl/2015/01/20/docker-and-the-pid-1-zombie-reaping-problem/\n",
    "- https://github.com/krallin/tini\n",
    "- https://engineeringblog.yelp.com/2016/01/dumb-init-an-init-for-docker.html"
   ]
  },
  {
   "cell_type": "markdown",
   "metadata": {
    "slideshow": {
     "slide_type": "slide"
    }
   },
   "source": [
    "## [Containers are not virtual machines](https://blog.docker.com/2016/03/containers-are-not-vms/). Containers are virtual processes."
   ]
  },
  {
   "cell_type": "markdown",
   "metadata": {
    "slideshow": {
     "slide_type": "subslide"
    }
   },
   "source": [
    "### Docker Conceptual Paradigms\n",
    "\n",
    "A `Dockerfile` defines a Docker image. At run time, docker uses an image to launch a container.\n",
    "\n"
   ]
  },
  {
   "cell_type": "code",
   "execution_count": null,
   "metadata": {
    "slideshow": {
     "slide_type": "fragment"
    }
   },
   "outputs": [],
   "source": [
    "%%bash\n",
    "\n",
    "docker images"
   ]
  },
  {
   "cell_type": "code",
   "execution_count": null,
   "metadata": {
    "slideshow": {
     "slide_type": "subslide"
    }
   },
   "outputs": [],
   "source": [
    "%%bash\n",
    "\n",
    "docker ps "
   ]
  },
  {
   "cell_type": "code",
   "execution_count": null,
   "metadata": {
    "slideshow": {
     "slide_type": "subslide"
    }
   },
   "outputs": [],
   "source": [
    "%%bash\n",
    "\n",
    "docker ps -a\n"
   ]
  },
  {
   "cell_type": "markdown",
   "metadata": {
    "slideshow": {
     "slide_type": "subslide"
    }
   },
   "source": [
    "### Weak Allegory - Object-Oriented Programming\n",
    "\n",
    "- Images ~ Classes\n",
    "- Containers ~ Objects"
   ]
  },
  {
   "cell_type": "markdown",
   "metadata": {
    "slideshow": {
     "slide_type": "subslide"
    }
   },
   "source": [
    "### Strong Allegory - Binaries\n",
    "\n",
    "- Images ~ Compiled Binaries\n",
    "- Containers ~ Running Process of a Binary\n",
    "\n",
    "That's why we use `docker ps`!"
   ]
  },
  {
   "cell_type": "markdown",
   "metadata": {
    "slideshow": {
     "slide_type": "slide"
    }
   },
   "source": [
    "## Defining an Image"
   ]
  },
  {
   "cell_type": "markdown",
   "metadata": {
    "slideshow": {
     "slide_type": "fragment"
    }
   },
   "source": [
    "A `Dockerfile` is used to define a Docker image."
   ]
  },
  {
   "cell_type": "markdown",
   "metadata": {
    "slideshow": {
     "slide_type": "subslide"
    }
   },
   "source": [
    "### The `build-tool` image"
   ]
  },
  {
   "cell_type": "markdown",
   "metadata": {
    "slideshow": {
     "slide_type": "fragment"
    }
   },
   "source": [
    "```\n",
    "FROM python:2\n",
    "RUN touch /etc/in-docker\n",
    "RUN pip install git+https://github.com/databricks-edu/build-tooling\n",
    "RUN apt-get update && apt-get install -y less zip unzip vim nano\n",
    "RUN curl \"https://s3.amazonaws.com/aws-cli/awscli-bundle.zip\" -o \"awscli-bundle.zip\"\n",
    "RUN unzip awscli-bundle.zip\n",
    "RUN ./awscli-bundle/install -i /usr/local/aws -b /usr/local/bin/aws\n",
    "```\n",
    "\n",
    "Built using the [Python](https://hub.docker.com/_/python) core image."
   ]
  },
  {
   "cell_type": "markdown",
   "metadata": {
    "slideshow": {
     "slide_type": "subslide"
    }
   },
   "source": [
    "### `docker build`"
   ]
  },
  {
   "cell_type": "markdown",
   "metadata": {
    "slideshow": {
     "slide_type": "fragment"
    }
   },
   "source": [
    "To use this image, it must be built. Brian and I have set up an automated build process to do this for us. \n",
    "\n",
    "Every time a change is made to the github repo `databricks-edu/build-tooling` an automated build is triggered on Docker Hub: https://hub.docker.com/r/databrickseducation/build-tool\n",
    "\n",
    "This could be done manually via `docker build` e.g.\n",
    "\n",
    "```\n",
    "docker build -t SOME_IMAGE_NAME SOME_DOCKERFILE_LOCATION\n",
    "```"
   ]
  },
  {
   "cell_type": "markdown",
   "metadata": {
    "slideshow": {
     "slide_type": "fragment"
    }
   },
   "source": [
    "This means that to get the latest updates of the build-tooling, all this is necessary is to do a `docker pull`. \n",
    "\n",
    "Brian added this to the script `docker/install.sh`."
   ]
  },
  {
   "cell_type": "code",
   "execution_count": null,
   "metadata": {
    "slideshow": {
     "slide_type": "subslide"
    }
   },
   "outputs": [],
   "source": [
    "cd ~/repos/build-tooling/"
   ]
  },
  {
   "cell_type": "code",
   "execution_count": null,
   "metadata": {
    "slideshow": {
     "slide_type": "subslide"
    }
   },
   "outputs": [],
   "source": [
    "%%bash\n",
    "\n",
    "git pull"
   ]
  },
  {
   "cell_type": "code",
   "execution_count": null,
   "metadata": {
    "slideshow": {
     "slide_type": "subslide"
    }
   },
   "outputs": [],
   "source": [
    "%%bash\n",
    "\n",
    "./docker/install.sh"
   ]
  },
  {
   "cell_type": "markdown",
   "metadata": {
    "slideshow": {
     "slide_type": "slide"
    }
   },
   "source": [
    "## Using the Build Tools"
   ]
  },
  {
   "cell_type": "markdown",
   "metadata": {
    "slideshow": {
     "slide_type": "subslide"
    }
   },
   "source": [
    "### The Aliases"
   ]
  },
  {
   "cell_type": "code",
   "execution_count": null,
   "metadata": {
    "scrolled": true,
    "slideshow": {
     "slide_type": "fragment"
    }
   },
   "outputs": [],
   "source": [
    "%%bash\n",
    "\n",
    "head -n 14 ~/.build-tools-aliases.sh | tail -n 4"
   ]
  },
  {
   "cell_type": "markdown",
   "metadata": {
    "slideshow": {
     "slide_type": "subslide"
    }
   },
   "source": [
    "### What will happen?"
   ]
  },
  {
   "cell_type": "markdown",
   "metadata": {
    "slideshow": {
     "slide_type": "fragment"
    }
   },
   "source": [
    "When you run \n",
    "\n",
    "```\n",
    "bdc some_course.yaml\n",
    "``` \n",
    "\n",
    "via the alias, you are actually running\n",
    "\n",
    "```\n",
    "docker run -it --rm -w `pwd` -e DB_SHARD_HOME=$DB_SHARD_HOME -e HOME=$HOME -v $HOME:$HOME databrickseducation/build-tool:$BUILD_TOOL_DOCKER_TAG bdc\n",
    "```"
   ]
  },
  {
   "cell_type": "markdown",
   "metadata": {
    "slideshow": {
     "slide_type": "subslide"
    }
   },
   "source": [
    "The Docker client sends the command to the Docker engine. The Docker engine does the following:\n",
    "\n",
    "1. Locates the `databrickseducation/build-tool` image in your local cache of images.\n",
    "1. Creates a new container using the image.\n",
    "1. Allocates a filesystem and adds a read-write layer to the top of the image.\n",
    "1. Executes the process `bdc some_course.yaml` within the container."
   ]
  },
  {
   "cell_type": "markdown",
   "metadata": {
    "slideshow": {
     "slide_type": "subslide"
    }
   },
   "source": [
    "The following flags are used:\n",
    "\n",
    "- `-it ` ensures that the process is interactive with terminal emulation attached\n",
    "- `--rm` removes the container when the process is complete\n",
    "- `-e` exports each of these environment variables\n",
    "- `-v` attaches `$HOME` on the host to `$HOME` in the container (which was previously defined to be the same thing)\n",
    "- `-w` sets the current directory on the host system (```pwd```) to be the working directory (the directory from which docker will run the command) in the container."
   ]
  },
  {
   "cell_type": "markdown",
   "metadata": {
    "slideshow": {
     "slide_type": "subslide"
    }
   },
   "source": [
    "### The `course` tool"
   ]
  },
  {
   "cell_type": "markdown",
   "metadata": {
    "slideshow": {
     "slide_type": "fragment"
    }
   },
   "source": [
    "The course tool requires several additional environment variables. To do this, the alias file contains two helper functions:\n",
    "\n",
    "- `create_course_envfile` - which creates a file of the necessary environment \n",
    "- `course` - a wrapper function that creates a temporary envfile and passes this file to the docker engine at runtime. "
   ]
  },
  {
   "cell_type": "code",
   "execution_count": null,
   "metadata": {
    "scrolled": true,
    "slideshow": {
     "slide_type": "subslide"
    }
   },
   "outputs": [],
   "source": [
    "%%bash\n",
    "\n",
    "tail -n 23 ~/.build-tools-aliases.sh"
   ]
  },
  {
   "cell_type": "markdown",
   "metadata": {
    "slideshow": {
     "slide_type": "slide"
    }
   },
   "source": [
    "## What do I need to do?\n",
    "\n",
    "1. Install Docker.\n",
    "2. Clone the `build-tooling` repo.\n",
    "3. `cd build-tooling`\n",
    "4. (If necessary) update `build-tooling`\n",
    "   ```\n",
    "   git pull\n",
    "   ```\n",
    "5. Run the install script.\n",
    "\n",
    "   ```\n",
    "   ./docker/install.sh\n",
    "   ```\n",
    "6. Use the build tools as you normally would \n",
    "\n",
    "   ```\n",
    "   course arg1 arg2 ...\n",
    "   bdc ... course.yaml\n",
    "   ...\n",
    "   ```\n",
    " "
   ]
  }
 ],
 "metadata": {
  "celltoolbar": "Slideshow",
  "kernelspec": {
   "display_name": "Python 3",
   "language": "python",
   "name": "python3"
  },
  "language_info": {
   "codemirror_mode": {
    "name": "ipython",
    "version": 3
   },
   "file_extension": ".py",
   "mimetype": "text/x-python",
   "name": "python",
   "nbconvert_exporter": "python",
   "pygments_lexer": "ipython3",
   "version": "3.7.1"
  }
 },
 "nbformat": 4,
 "nbformat_minor": 2
}
